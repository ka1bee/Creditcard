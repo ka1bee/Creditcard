{
  "nbformat": 4,
  "nbformat_minor": 0,
  "metadata": {
    "colab": {
      "provenance": []
    },
    "kernelspec": {
      "name": "python3",
      "display_name": "Python 3"
    },
    "language_info": {
      "name": "python"
    }
  },
  "cells": [
    {
      "cell_type": "markdown",
      "source": [
        "#**1. Import Dependencies**"
      ],
      "metadata": {
        "id": "bnckdGaVevNV"
      }
    },
    {
      "cell_type": "code",
      "execution_count": 1,
      "metadata": {
        "id": "iMFpfA8Wd4fV"
      },
      "outputs": [],
      "source": [
        "import numpy as py\n",
        "import pandas as pd\n",
        "from sklearn.model_selection import train_test_split\n",
        "from sklearn.linear_model import LogisticRegression\n",
        "from sklearn.metrics import accuracy_score"
      ]
    },
    {
      "cell_type": "markdown",
      "source": [
        "#**2. Get the data**"
      ],
      "metadata": {
        "id": "fyewg92Vf9RW"
      }
    },
    {
      "cell_type": "code",
      "source": [
        "# Read the CSV file, specifying the delimiter and handling missing data\n",
        "credit_card_data = pd.read_csv('/content/creditcard.csv', error_bad_lines=False)\n",
        "\n",
        "# Print the first 5 rows of the DataFrame\n",
        "print(credit_card_data.head())\n"
      ],
      "metadata": {
        "colab": {
          "base_uri": "https://localhost:8080/"
        },
        "id": "l47yrFk3d9VE",
        "outputId": "0f41a9d9-5d54-4fac-9ad8-684616f1206f"
      },
      "execution_count": null,
      "outputs": [
        {
          "output_type": "stream",
          "name": "stderr",
          "text": [
            "<ipython-input-4-9cc52f0322d0>:2: FutureWarning: The error_bad_lines argument has been deprecated and will be removed in a future version. Use on_bad_lines in the future.\n",
            "\n",
            "\n",
            "  credit_card_data = pd.read_csv('/content/creditcard (1).csv', error_bad_lines=False)\n",
            "Skipping line 5966: expected 31 fields, saw 51\n",
            "Skipping line 11956: expected 31 fields, saw 42\n",
            "Skipping line 15937: expected 31 fields, saw 40\n",
            "Skipping line 19911: expected 31 fields, saw 33\n",
            "Skipping line 21905: expected 31 fields, saw 46\n",
            "Skipping line 25880: expected 31 fields, saw 49\n",
            "\n",
            "Skipping line 37764: expected 31 fields, saw 39\n",
            "Skipping line 41725: expected 31 fields, saw 59\n",
            "Skipping line 45685: expected 31 fields, saw 47\n",
            "Skipping line 51626: expected 31 fields, saw 51\n",
            "Skipping line 55589: expected 31 fields, saw 36\n",
            "Skipping line 59549: expected 31 fields, saw 32\n",
            "Skipping line 63510: expected 31 fields, saw 37\n",
            "Skipping line 65490: expected 31 fields, saw 41\n",
            "\n",
            "Skipping line 69453: expected 31 fields, saw 34\n",
            "Skipping line 71434: expected 31 fields, saw 52\n",
            "Skipping line 77376: expected 31 fields, saw 38\n",
            "Skipping line 79358: expected 31 fields, saw 35\n",
            "Skipping line 83321: expected 31 fields, saw 32\n",
            "Skipping line 85302: expected 31 fields, saw 54\n",
            "Skipping line 91245: expected 31 fields, saw 48\n",
            "\n"
          ]
        },
        {
          "output_type": "stream",
          "name": "stdout",
          "text": [
            "   Time        V1                   V2        V3        V4        V5  \\\n",
            "0   0.0 -1.359807  -0.0727811733098497  2.536347  1.378155 -0.338321   \n",
            "1   0.0  1.191857     0.26615071205963  0.166480  0.448154  0.060018   \n",
            "2   1.0 -1.358354    -1.34016307473609  1.773209  0.379780 -0.503198   \n",
            "3   1.0 -0.966272   -0.185226008082898  1.792993 -0.863291 -0.010309   \n",
            "4   2.0 -1.158233    0.877736754848451  1.548718  0.403034 -0.407193   \n",
            "\n",
            "         V6        V7        V8        V9  ...                   V21  \\\n",
            "0  0.462388  0.239599  0.098698  0.363787  ...    -0.018306777944153   \n",
            "1 -0.082361 -0.078803  0.085102 -0.255425  ...    -0.225775248033138   \n",
            "2  1.800499  0.791461  0.247676 -1.514654  ...     0.247998153469754   \n",
            "3  1.247203  0.237609  0.377436 -1.387024  ...    -0.108300452035545   \n",
            "4  0.095921  0.592941 -0.270533  0.817739  ...  -0.00943069713232919   \n",
            "\n",
            "        V22       V23       V24       V25       V26       V27       V28  \\\n",
            "0  0.277838 -0.110474  0.066928  0.128539 -0.189115  0.133558 -0.021053   \n",
            "1 -0.638672  0.101288 -0.339846  0.167170  0.125895 -0.008983  0.014724   \n",
            "2  0.771679  0.909412 -0.689281 -0.327642 -0.139097 -0.055353 -0.059752   \n",
            "3  0.005274 -0.190321 -1.175575  0.647376 -0.221929  0.062723  0.061458   \n",
            "4  0.798278 -0.137458  0.141267 -0.206010  0.502292  0.219422  0.215153   \n",
            "\n",
            "   Amount  Class  \n",
            "0  149.62    0.0  \n",
            "1    2.69    0.0  \n",
            "2  378.66    0.0  \n",
            "3  123.50    0.0  \n",
            "4   69.99    0.0  \n",
            "\n",
            "[5 rows x 31 columns]\n"
          ]
        },
        {
          "output_type": "stream",
          "name": "stderr",
          "text": [
            "<ipython-input-4-9cc52f0322d0>:2: DtypeWarning: Columns (2,13,21) have mixed types. Specify dtype option on import or set low_memory=False.\n",
            "  credit_card_data = pd.read_csv('/content/creditcard (1).csv', error_bad_lines=False)\n"
          ]
        }
      ]
    },
    {
      "cell_type": "code",
      "source": [
        "# Print the last 5 rows of the DataFrame\n",
        "print(credit_card_data.tail())"
      ],
      "metadata": {
        "colab": {
          "base_uri": "https://localhost:8080/"
        },
        "id": "ubPsEg47gS17",
        "outputId": "acd232ec-1384-45f0-ede2-fdb2c4b17665"
      },
      "execution_count": null,
      "outputs": [
        {
          "output_type": "stream",
          "name": "stdout",
          "text": [
            "          Time        V1        V2        V3        V4        V5        V6  \\\n",
            "99142  47945.0  1.138100  0.186695  0.224979  1.098891 -0.149107 -0.494817   \n",
            "99143  47946.0 -0.646913  1.130799  1.050571 -0.569363  0.844107  0.227605   \n",
            "99144  47946.0  1.214047  0.217891  0.399390  0.945208 -0.101512 -0.108244   \n",
            "99145  47946.0 -0.637264  1.187105  0.911446  0.827789 -0.241755 -0.431410   \n",
            "99146  47946.0 -1.054793  0.820159  0.709861 -0.071631       NaN       NaN   \n",
            "\n",
            "             V7        V8        V9  ...       V21       V22       V23  \\\n",
            "99142  0.158646 -0.082146  0.031110  ...  0.070575  0.193698 -0.093600   \n",
            "99143  0.808902 -0.130225 -0.290188  ... -0.327854 -0.647464 -0.188020   \n",
            "99144 -0.099976  0.071885  0.248587  ...  -0.29318 -0.859018  0.125645   \n",
            "99145  0.482341  0.395142 -1.095934  ...  0.272207  0.604289 -0.037705   \n",
            "99146       NaN       NaN       NaN  ...       NaN       NaN       NaN   \n",
            "\n",
            "            V24       V25       V26       V27       V28  Amount  Class  \n",
            "99142  0.078039  0.590292 -0.300950  0.021664  0.021820   36.86    0.0  \n",
            "99143 -1.029697  0.014101  0.101051  0.084340 -0.074503    1.98    0.0  \n",
            "99144 -0.508650  0.253563 -0.629445  0.040633  0.022467    2.99    0.0  \n",
            "99145  0.339703 -0.250802 -0.350949  0.031500  0.094337   45.00    0.0  \n",
            "99146       NaN       NaN       NaN       NaN       NaN     NaN    NaN  \n",
            "\n",
            "[5 rows x 31 columns]\n"
          ]
        }
      ]
    },
    {
      "cell_type": "code",
      "source": [
        "# dataframe information\n",
        "credit_card_data.info()"
      ],
      "metadata": {
        "colab": {
          "base_uri": "https://localhost:8080/"
        },
        "id": "XkNbmoA8jWNM",
        "outputId": "2ea7590e-2203-46bd-e60a-d8c542584a5a"
      },
      "execution_count": null,
      "outputs": [
        {
          "output_type": "stream",
          "name": "stdout",
          "text": [
            "<class 'pandas.core.frame.DataFrame'>\n",
            "RangeIndex: 99147 entries, 0 to 99146\n",
            "Data columns (total 31 columns):\n",
            " #   Column  Non-Null Count  Dtype  \n",
            "---  ------  --------------  -----  \n",
            " 0   Time    99147 non-null  float64\n",
            " 1   V1      99147 non-null  float64\n",
            " 2   V2      99147 non-null  object \n",
            " 3   V3      99147 non-null  float64\n",
            " 4   V4      99147 non-null  float64\n",
            " 5   V5      99146 non-null  float64\n",
            " 6   V6      99146 non-null  float64\n",
            " 7   V7      99146 non-null  float64\n",
            " 8   V8      99145 non-null  float64\n",
            " 9   V9      99144 non-null  float64\n",
            " 10  V10     99143 non-null  float64\n",
            " 11  V11     99141 non-null  float64\n",
            " 12  V12     99141 non-null  float64\n",
            " 13  V13     99141 non-null  object \n",
            " 14  V14     99140 non-null  float64\n",
            " 15  V15     99139 non-null  float64\n",
            " 16  V16     99138 non-null  float64\n",
            " 17  V17     99136 non-null  float64\n",
            " 18  V18     99136 non-null  float64\n",
            " 19  V19     99136 non-null  float64\n",
            " 20  V20     99134 non-null  float64\n",
            " 21  V21     99133 non-null  object \n",
            " 22  V22     99132 non-null  float64\n",
            " 23  V23     99132 non-null  float64\n",
            " 24  V24     99132 non-null  float64\n",
            " 25  V25     99131 non-null  float64\n",
            " 26  V26     99129 non-null  float64\n",
            " 27  V27     99128 non-null  float64\n",
            " 28  V28     99127 non-null  float64\n",
            " 29  Amount  99123 non-null  float64\n",
            " 30  Class   99121 non-null  float64\n",
            "dtypes: float64(28), object(3)\n",
            "memory usage: 23.4+ MB\n"
          ]
        }
      ]
    },
    {
      "cell_type": "code",
      "source": [
        "# checking the number of missing values in each column\n",
        "credit_card_data.isnull().sum()"
      ],
      "metadata": {
        "colab": {
          "base_uri": "https://localhost:8080/"
        },
        "id": "VkHDY6VnjbrO",
        "outputId": "3d799d7a-00c5-402a-9f41-a09fc72b7c05"
      },
      "execution_count": null,
      "outputs": [
        {
          "output_type": "execute_result",
          "data": {
            "text/plain": [
              "Time       0\n",
              "V1         0\n",
              "V2         0\n",
              "V3         0\n",
              "V4         0\n",
              "V5         1\n",
              "V6         1\n",
              "V7         1\n",
              "V8         2\n",
              "V9         3\n",
              "V10        4\n",
              "V11        6\n",
              "V12        6\n",
              "V13        6\n",
              "V14        7\n",
              "V15        8\n",
              "V16        9\n",
              "V17       11\n",
              "V18       11\n",
              "V19       11\n",
              "V20       13\n",
              "V21       14\n",
              "V22       15\n",
              "V23       15\n",
              "V24       15\n",
              "V25       16\n",
              "V26       18\n",
              "V27       19\n",
              "V28       20\n",
              "Amount    24\n",
              "Class     26\n",
              "dtype: int64"
            ]
          },
          "metadata": {},
          "execution_count": 7
        }
      ]
    },
    {
      "cell_type": "markdown",
      "source": [
        "#**3. Distribution of legit transactions & fraudulent transactions**"
      ],
      "metadata": {
        "id": "WXLoHN2-oGmh"
      }
    },
    {
      "cell_type": "code",
      "source": [
        "import matplotlib.pyplot as plt\n",
        "\n",
        "class_counts = credit_card_data[\"Class\"].value_counts()\n",
        "\n",
        "colors = [\"#1f77b4\", \"#ff7f0e\"]\n",
        "plt.bar(class_counts.index, class_counts.values, color=colors)\n",
        "\n",
        "plt.xlabel(\"Transaction Class\", fontweight=\"bold\", fontsize=12)\n",
        "plt.ylabel(\"Count\", fontweight=\"bold\", fontsize=12)\n",
        "plt.title(\"Distribution of Transaction Classes\", fontweight=\"bold\", fontsize=14)\n",
        "\n",
        "plt.xticks(class_counts.index, [\"Normal\", \"Fraudulent\"], rotation=45, ha=\"right\", fontsize=10)\n",
        "\n",
        "plt.grid(axis=\"y\", linestyle=\"--\", alpha=0.5)\n",
        "\n",
        "for i, count in enumerate(class_counts.values):\n",
        "    plt.text(i, count + 1000, str(count), ha=\"center\", va=\"bottom\", fontweight=\"bold\", fontsize=10)\n",
        "\n",
        "plt.tight_layout()\n",
        "plt.show()"
      ],
      "metadata": {
        "colab": {
          "base_uri": "https://localhost:8080/",
          "height": 487
        },
        "id": "jI22UXs-kp7g",
        "outputId": "9bd72f4e-bb8e-4984-f260-9371476fad2d"
      },
      "execution_count": null,
      "outputs": [
        {
          "output_type": "display_data",
          "data": {
            "text/plain": [
              "<Figure size 640x480 with 1 Axes>"
            ],
            "image/png": "[encoded data removed]"
          },
          "metadata": {}
        }
      ]
    },
    {
      "cell_type": "code",
      "source": [
        "import matplotlib.pyplot as plt\n",
        "\n",
        "legit = credit_card_data[credit_card_data.Class == 0]\n",
        "fraud = credit_card_data[credit_card_data.Class == 1]\n",
        "\n",
        "legit_count = len(legit)\n",
        "fraud_count = len(fraud)\n",
        "\n",
        "bar_positions = [0, 1]\n",
        "bar_width = 0.35\n",
        "\n",
        "fig, ax1 = plt.subplots()\n",
        "\n",
        "ax1.bar(bar_positions[0], legit_count, bar_width, color='green', label='Legitimate')\n",
        "ax1.bar(bar_positions[1], fraud_count, bar_width, color='red', label='Fraudulent')\n",
        "\n",
        "ax1.set_xlabel('Transaction Class')\n",
        "ax1.set_ylabel('Count')\n",
        "ax1.set_title('Distribution of Legitimate and Fraudulent Transactions')\n",
        "\n",
        "ax1.set_xticks(bar_positions)\n",
        "ax1.set_xticklabels(['Legitimate', 'Fraudulent'])\n",
        "\n",
        "ax1.legend()\n",
        "\n",
        "ax1.text(bar_positions[0], legit_count, str(legit_count), ha='center', va='bottom')\n",
        "ax1.text(bar_positions[1], fraud_count, str(fraud_count), ha='center', va='bottom')\n",
        "\n",
        "ax1.grid(axis='y', linestyle='--', alpha=0.5)\n",
        "\n",
        "plt.xticks(rotation=45)\n",
        "\n",
        "plt.annotate('Fraudulent', xy=(0.5, fraud_count), xytext=(0.7, fraud_count + 500),\n",
        "arrowprops=dict(facecolor='black', arrowstyle='->'))\n",
        "\n",
        "plt.show()\n",
        "\n"
      ],
      "metadata": {
        "id": "ERjePqvcks2l",
        "colab": {
          "base_uri": "https://localhost:8080/",
          "height": 520
        },
        "outputId": "9074d823-cc21-4e9e-ea0a-d2fafc6f9f3e"
      },
      "execution_count": null,
      "outputs": [
        {
          "output_type": "display_data",
          "data": {
            "text/plain": [
              "<Figure size 640x480 with 1 Axes>"
            ],
            "image/png": "[encoded data removed]"
          },
          "metadata": {}
        }
      ]
    },
    {
      "cell_type": "code",
      "source": [
        "print(legit.shape)\n",
        "print(fraud.shape)"
      ],
      "metadata": {
        "colab": {
          "base_uri": "https://localhost:8080/"
        },
        "id": "CGpGqYJ2pRxD",
        "outputId": "ad7f26db-065e-4c0a-dafd-dc49fa57e32f"
      },
      "execution_count": null,
      "outputs": [
        {
          "output_type": "stream",
          "name": "stdout",
          "text": [
            "(98839, 31)\n",
            "(282, 31)\n"
          ]
        }
      ]
    },
    {
      "cell_type": "code",
      "source": [
        "# statistical measures of the data\n",
        "legit.Amount.describe()"
      ],
      "metadata": {
        "colab": {
          "base_uri": "https://localhost:8080/"
        },
        "id": "D10k4fuUqLCx",
        "outputId": "859e2ec6-3331-41c7-9e89-4b6912810737"
      },
      "execution_count": null,
      "outputs": [
        {
          "output_type": "execute_result",
          "data": {
            "text/plain": [
              "count    98839.000000\n",
              "mean        96.440028\n",
              "std        260.571172\n",
              "min          0.000000\n",
              "25%          7.980000\n",
              "50%         26.940000\n",
              "75%         89.000000\n",
              "max      12910.930000\n",
              "Name: Amount, dtype: float64"
            ]
          },
          "metadata": {},
          "execution_count": 11
        }
      ]
    },
    {
      "cell_type": "code",
      "source": [
        "fraud.Amount.describe()"
      ],
      "metadata": {
        "colab": {
          "base_uri": "https://localhost:8080/"
        },
        "id": "onlBKdEAqNA5",
        "outputId": "4c122b48-b3af-462e-e552-f2331de6be7c"
      },
      "execution_count": null,
      "outputs": [
        {
          "output_type": "execute_result",
          "data": {
            "text/plain": [
              "count     282.000000\n",
              "mean       96.152128\n",
              "std       213.153020\n",
              "min         0.000000\n",
              "25%         1.000000\n",
              "50%        11.385000\n",
              "75%        99.990000\n",
              "max      1809.680000\n",
              "Name: Amount, dtype: float64"
            ]
          },
          "metadata": {},
          "execution_count": 12
        }
      ]
    },
    {
      "cell_type": "markdown",
      "source": [
        "#**4. Compare the values for both transactions**"
      ],
      "metadata": {
        "id": "N4Dk8OZ9quwJ"
      }
    },
    {
      "cell_type": "code",
      "source": [
        "import matplotlib.pyplot as plt\n",
        "\n",
        "class_means = credit_card_data.groupby('Class').mean()\n",
        "\n",
        "plt.bar(class_means.index, class_means['Amount'])\n",
        "\n",
        "plt.xlabel(\"Transaction Class\")\n",
        "plt.ylabel(\"Average Amount\")\n",
        "plt.title(\"Average Transaction Amount by Class\")\n",
        "\n",
        "plt.xticks(class_means.index, [\"Normal\", \"Fraudulent\"])\n",
        "\n",
        "plt.show()"
      ],
      "metadata": {
        "colab": {
          "base_uri": "https://localhost:8080/",
          "height": 527
        },
        "id": "6a36ODAfqoE6",
        "outputId": "aebd0cea-891e-4670-8a69-b90dbdcec0a2"
      },
      "execution_count": null,
      "outputs": [
        {
          "output_type": "stream",
          "name": "stderr",
          "text": [
            "<ipython-input-13-b534a85890cc>:3: FutureWarning: The default value of numeric_only in DataFrameGroupBy.mean is deprecated. In a future version, numeric_only will default to False. Either specify numeric_only or select only columns which should be valid for the function.\n",
            "  class_means = credit_card_data.groupby('Class').mean()\n"
          ]
        },
        {
          "output_type": "display_data",
          "data": {
            "text/plain": [
              "<Figure size 640x480 with 1 Axes>"
            ],
            "image/png": "[encoded data removed]"
          },
          "metadata": {}
        }
      ]
    },
    {
      "cell_type": "markdown",
      "source": [
        "#**5. Under-Sampling**\n"
      ],
      "metadata": {
        "id": "pOrN2w2groX_"
      }
    },
    {
      "cell_type": "code",
      "source": [
        "# Build a sample dataset containing similar distribution \n",
        "# of normal transactions and fraudulent transactions\n",
        "# number of Fraudulent Transaction - 731\n",
        "legit_sample = legit.sample(n=731)"
      ],
      "metadata": {
        "id": "l2r0sVJFqzB9"
      },
      "execution_count": null,
      "outputs": []
    },
    {
      "cell_type": "code",
      "source": [
        "# Concatenating two DataFrames\n",
        "new_dataset = pd.concat([legit_sample, fraud], axis=0)"
      ],
      "metadata": {
        "id": "1j8faS-urmFh"
      },
      "execution_count": null,
      "outputs": []
    },
    {
      "cell_type": "code",
      "source": [
        "new_dataset.head()"
      ],
      "metadata": {
        "colab": {
          "base_uri": "https://localhost:8080/",
          "height": 299
        },
        "id": "uFXE6vyxssxp",
        "outputId": "2554bd0d-167e-4a8f-e7fe-55d18d1fdcb4"
      },
      "execution_count": null,
      "outputs": [
        {
          "output_type": "execute_result",
          "data": {
            "text/plain": [
              "          Time         V1                  V2        V3        V4        V5  \\\n",
              "95887  43593.0  -0.660322    1.03279100564278  1.082341  0.944963 -0.460496   \n",
              "46361  35949.0   1.186527             0.31306  0.200513  1.678970 -0.050205   \n",
              "89485  45144.0 -11.999298   -13.9568366855898  0.173530  2.824796  8.047599   \n",
              "2373   11177.0   0.941270  0.0881820171854246  0.295006  1.435827 -0.208409   \n",
              "33197  28625.0  -3.736432            3.370888 -5.460398  1.954062 -1.960729   \n",
              "\n",
              "             V6        V7        V8        V9  ...                   V21  \\\n",
              "95887 -0.001552  1.037260  0.079273 -0.192663  ...              -0.17324   \n",
              "46361 -0.445124  0.165314 -0.043547 -0.606329  ...             -0.063996   \n",
              "89485 -4.905405 -4.069815 -0.933125  2.409828  ...             -1.718835   \n",
              "2373  -0.825199  0.446951 -0.447491  1.002858  ...  -0.00791949226879717   \n",
              "33197 -2.208190 -1.171518  2.659153 -0.284688  ...             -0.099896   \n",
              "\n",
              "            V22       V23       V24       V25       V26       V27       V28  \\\n",
              "95887 -0.331609  0.078448 -0.006142 -0.042470 -0.416678  0.467405  0.134475   \n",
              "46361 -0.272409  0.024617  0.094243  0.288406  0.970634 -0.092555 -0.002575   \n",
              "89485  0.088198 -2.264306  0.268877 -0.678225  0.896077 -0.246275  3.628542   \n",
              "2373  -0.010321 -0.246794  0.389563  0.660980 -0.389446 -0.032424  0.045139   \n",
              "33197 -0.543020 -0.040642  0.052004 -0.120554 -0.379438  0.136217 -0.237987   \n",
              "\n",
              "       Amount  Class  \n",
              "95887  129.70    0.0  \n",
              "46361   15.99    0.0  \n",
              "89485  595.58    0.0  \n",
              "2373   163.41    0.0  \n",
              "33197   89.99    0.0  \n",
              "\n",
              "[5 rows x 31 columns]"
            ],
            "text/html": [
              "\n",
              "  <div id=\"df-2a415824-9192-41a4-b768-207967cef78e\">\n",
              "    <div class=\"colab-df-container\">\n",
              "      <div>\n",
              "<style scoped>\n",
              "    .dataframe tbody tr th:only-of-type {\n",
              "        vertical-align: middle;\n",
              "    }\n",
              "\n",
              "    .dataframe tbody tr th {\n",
              "        vertical-align: top;\n",
              "    }\n",
              "\n",
              "    .dataframe thead th {\n",
              "        text-align: right;\n",
              "    }\n",
              "</style>\n",
              "<table border=\"1\" class=\"dataframe\">\n",
              "  <thead>\n",
              "    <tr style=\"text-align: right;\">\n",
              "      <th></th>\n",
              "      <th>Time</th>\n",
              "      <th>V1</th>\n",
              "      <th>V2</th>\n",
              "      <th>V3</th>\n",
              "      <th>V4</th>\n",
              "      <th>V5</th>\n",
              "      <th>V6</th>\n",
              "      <th>V7</th>\n",
              "      <th>V8</th>\n",
              "      <th>V9</th>\n",
              "      <th>...</th>\n",
              "      <th>V21</th>\n",
              "      <th>V22</th>\n",
              "      <th>V23</th>\n",
              "      <th>V24</th>\n",
              "      <th>V25</th>\n",
              "      <th>V26</th>\n",
              "      <th>V27</th>\n",
              "      <th>V28</th>\n",
              "      <th>Amount</th>\n",
              "      <th>Class</th>\n",
              "    </tr>\n",
              "  </thead>\n",
              "  <tbody>\n",
              "    <tr>\n",
              "      <th>95887</th>\n",
              "      <td>43593.0</td>\n",
              "      <td>-0.660322</td>\n",
              "      <td>1.03279100564278</td>\n",
              "      <td>1.082341</td>\n",
              "      <td>0.944963</td>\n",
              "      <td>-0.460496</td>\n",
              "      <td>-0.001552</td>\n",
              "      <td>1.037260</td>\n",
              "      <td>0.079273</td>\n",
              "      <td>-0.192663</td>\n",
              "      <td>...</td>\n",
              "      <td>-0.17324</td>\n",
              "      <td>-0.331609</td>\n",
              "      <td>0.078448</td>\n",
              "      <td>-0.006142</td>\n",
              "      <td>-0.042470</td>\n",
              "      <td>-0.416678</td>\n",
              "      <td>0.467405</td>\n",
              "      <td>0.134475</td>\n",
              "      <td>129.70</td>\n",
              "      <td>0.0</td>\n",
              "    </tr>\n",
              "    <tr>\n",
              "      <th>46361</th>\n",
              "      <td>35949.0</td>\n",
              "      <td>1.186527</td>\n",
              "      <td>0.31306</td>\n",
              "      <td>0.200513</td>\n",
              "      <td>1.678970</td>\n",
              "      <td>-0.050205</td>\n",
              "      <td>-0.445124</td>\n",
              "      <td>0.165314</td>\n",
              "      <td>-0.043547</td>\n",
              "      <td>-0.606329</td>\n",
              "      <td>...</td>\n",
              "      <td>-0.063996</td>\n",
              "      <td>-0.272409</td>\n",
              "      <td>0.024617</td>\n",
              "      <td>0.094243</td>\n",
              "      <td>0.288406</td>\n",
              "      <td>0.970634</td>\n",
              "      <td>-0.092555</td>\n",
              "      <td>-0.002575</td>\n",
              "      <td>15.99</td>\n",
              "      <td>0.0</td>\n",
              "    </tr>\n",
              "    <tr>\n",
              "      <th>89485</th>\n",
              "      <td>45144.0</td>\n",
              "      <td>-11.999298</td>\n",
              "      <td>-13.9568366855898</td>\n",
              "      <td>0.173530</td>\n",
              "      <td>2.824796</td>\n",
              "      <td>8.047599</td>\n",
              "      <td>-4.905405</td>\n",
              "      <td>-4.069815</td>\n",
              "      <td>-0.933125</td>\n",
              "      <td>2.409828</td>\n",
              "      <td>...</td>\n",
              "      <td>-1.718835</td>\n",
              "      <td>0.088198</td>\n",
              "      <td>-2.264306</td>\n",
              "      <td>0.268877</td>\n",
              "      <td>-0.678225</td>\n",
              "      <td>0.896077</td>\n",
              "      <td>-0.246275</td>\n",
              "      <td>3.628542</td>\n",
              "      <td>595.58</td>\n",
              "      <td>0.0</td>\n",
              "    </tr>\n",
              "    <tr>\n",
              "      <th>2373</th>\n",
              "      <td>11177.0</td>\n",
              "      <td>0.941270</td>\n",
              "      <td>0.0881820171854246</td>\n",
              "      <td>0.295006</td>\n",
              "      <td>1.435827</td>\n",
              "      <td>-0.208409</td>\n",
              "      <td>-0.825199</td>\n",
              "      <td>0.446951</td>\n",
              "      <td>-0.447491</td>\n",
              "      <td>1.002858</td>\n",
              "      <td>...</td>\n",
              "      <td>-0.00791949226879717</td>\n",
              "      <td>-0.010321</td>\n",
              "      <td>-0.246794</td>\n",
              "      <td>0.389563</td>\n",
              "      <td>0.660980</td>\n",
              "      <td>-0.389446</td>\n",
              "      <td>-0.032424</td>\n",
              "      <td>0.045139</td>\n",
              "      <td>163.41</td>\n",
              "      <td>0.0</td>\n",
              "    </tr>\n",
              "    <tr>\n",
              "      <th>33197</th>\n",
              "      <td>28625.0</td>\n",
              "      <td>-3.736432</td>\n",
              "      <td>3.370888</td>\n",
              "      <td>-5.460398</td>\n",
              "      <td>1.954062</td>\n",
              "      <td>-1.960729</td>\n",
              "      <td>-2.208190</td>\n",
              "      <td>-1.171518</td>\n",
              "      <td>2.659153</td>\n",
              "      <td>-0.284688</td>\n",
              "      <td>...</td>\n",
              "      <td>-0.099896</td>\n",
              "      <td>-0.543020</td>\n",
              "      <td>-0.040642</td>\n",
              "      <td>0.052004</td>\n",
              "      <td>-0.120554</td>\n",
              "      <td>-0.379438</td>\n",
              "      <td>0.136217</td>\n",
              "      <td>-0.237987</td>\n",
              "      <td>89.99</td>\n",
              "      <td>0.0</td>\n",
              "    </tr>\n",
              "  </tbody>\n",
              "</table>\n",
              "<p>5 rows × 31 columns</p>\n",
              "</div>\n",
              "      <button class=\"colab-df-convert\" onclick=\"convertToInteractive('df-2a415824-9192-41a4-b768-207967cef78e')\"\n",
              "              title=\"Convert this dataframe to an interactive table.\"\n",
              "              style=\"display:none;\">\n",
              "        \n",
              "  <svg xmlns=\"http://www.w3.org/2000/svg\" height=\"24px\"viewBox=\"0 0 24 24\"\n",
              "       width=\"24px\">\n",
              "    <path d=\"M0 0h24v24H0V0z\" fill=\"none\"/>\n",
              "    <path d=\"M18.56 5.44l.94 2.06.94-2.06 2.06-.94-2.06-.94-.94-2.06-.94 2.06-2.06.94zm-11 1L8.5 8.5l.94-2.06 2.06-.94-2.06-.94L8.5 2.5l-.94 2.06-2.06.94zm10 10l.94 2.06.94-2.06 2.06-.94-2.06-.94-.94-2.06-.94 2.06-2.06.94z\"/><path d=\"M17.41 7.96l-1.37-1.37c-.4-.4-.92-.59-1.43-.59-.52 0-1.04.2-1.43.59L10.3 9.45l-7.72 7.72c-.78.78-.78 2.05 0 2.83L4 21.41c.39.39.9.59 1.41.59.51 0 1.02-.2 1.41-.59l7.78-7.78 2.81-2.81c.8-.78.8-2.07 0-2.86zM5.41 20L4 18.59l7.72-7.72 1.47 1.35L5.41 20z\"/>\n",
              "  </svg>\n",
              "      </button>\n",
              "      \n",
              "  <style>\n",
              "    .colab-df-container {\n",
              "      display:flex;\n",
              "      flex-wrap:wrap;\n",
              "      gap: 12px;\n",
              "    }\n",
              "\n",
              "    .colab-df-convert {\n",
              "      background-color: #E8F0FE;\n",
              "      border: none;\n",
              "      border-radius: 50%;\n",
              "      cursor: pointer;\n",
              "      display: none;\n",
              "      fill: #1967D2;\n",
              "      height: 32px;\n",
              "      padding: 0 0 0 0;\n",
              "      width: 32px;\n",
              "    }\n",
              "\n",
              "    .colab-df-convert:hover {\n",
              "      background-color: #E2EBFA;\n",
              "      box-shadow: 0px 1px 2px rgba(60, 64, 67, 0.3), 0px 1px 3px 1px rgba(60, 64, 67, 0.15);\n",
              "      fill: #174EA6;\n",
              "    }\n",
              "\n",
              "    [theme=dark] .colab-df-convert {\n",
              "      background-color: #3B4455;\n",
              "      fill: #D2E3FC;\n",
              "    }\n",
              "\n",
              "    [theme=dark] .colab-df-convert:hover {\n",
              "      background-color: #434B5C;\n",
              "      box-shadow: 0px 1px 3px 1px rgba(0, 0, 0, 0.15);\n",
              "      filter: drop-shadow(0px 1px 2px rgba(0, 0, 0, 0.3));\n",
              "      fill: #FFFFFF;\n",
              "    }\n",
              "  </style>\n",
              "\n",
              "      <script>\n",
              "        const buttonEl =\n",
              "          document.querySelector('#df-2a415824-9192-41a4-b768-207967cef78e button.colab-df-convert');\n",
              "        buttonEl.style.display =\n",
              "          google.colab.kernel.accessAllowed ? 'block' : 'none';\n",
              "\n",
              "        async function convertToInteractive(key) {\n",
              "          const element = document.querySelector('#df-2a415824-9192-41a4-b768-207967cef78e');\n",
              "          const dataTable =\n",
              "            await google.colab.kernel.invokeFunction('convertToInteractive',\n",
              "                                                     [key], {});\n",
              "          if (!dataTable) return;\n",
              "\n",
              "          const docLinkHtml = 'Like what you see? Visit the ' +\n",
              "            '<a target=\"_blank\" href=https://colab.research.google.com/notebooks/data_table.ipynb>data table notebook</a>'\n",
              "            + ' to learn more about interactive tables.';\n",
              "          element.innerHTML = '';\n",
              "          dataTable['output_type'] = 'display_data';\n",
              "          await google.colab.output.renderOutput(dataTable, element);\n",
              "          const docLink = document.createElement('div');\n",
              "          docLink.innerHTML = docLinkHtml;\n",
              "          element.appendChild(docLink);\n",
              "        }\n",
              "      </script>\n",
              "    </div>\n",
              "  </div>\n",
              "  "
            ]
          },
          "metadata": {},
          "execution_count": 16
        }
      ]
    },
    {
      "cell_type": "code",
      "source": [
        "new_dataset.tail()"
      ],
      "metadata": {
        "colab": {
          "base_uri": "https://localhost:8080/",
          "height": 299
        },
        "id": "kk3_Wh2fsu6N",
        "outputId": "893243e2-4924-4910-86ed-72bd07bf45bc"
      },
      "execution_count": null,
      "outputs": [
        {
          "output_type": "execute_result",
          "data": {
            "text/plain": [
              "          Time        V1                 V2        V3        V4        V5  \\\n",
              "95359  43369.0 -3.365319   2.42650326490524 -3.752227  0.276017 -2.305870   \n",
              "95651  43494.0 -1.278138  0.716241580332591 -1.143279  0.217805 -1.293890   \n",
              "98319  47545.0  1.176716           0.557091 -0.490800  0.756424  0.249192   \n",
              "98864  47826.0 -0.887287           1.390002  1.219686  1.661425  1.009228   \n",
              "99086  47923.0  0.364377           1.443523 -2.220907  2.036985 -1.237055   \n",
              "\n",
              "             V6        V7        V8        V9  ...       V21       V22  \\\n",
              "95359 -1.961578 -3.029283 -1.674462  0.183961  ...  2.070008 -0.512626   \n",
              "95651 -1.168952 -2.564182  0.204532 -1.611155  ...  0.490183  0.470427   \n",
              "98319 -0.781871  0.228750 -0.040840 -0.432111  ... -0.062166 -0.128168   \n",
              "98864 -0.733908  0.855829  0.000077 -1.275631  ... -0.083734 -0.346930   \n",
              "99086 -1.728161 -2.058582  0.358895 -1.393306  ...   0.40273 -0.132129   \n",
              "\n",
              "            V23       V24       V25       V26       V27       V28  Amount  \\\n",
              "95359 -0.248502  0.126550  0.104166 -1.055997 -1.200165 -1.012066   88.00   \n",
              "95651 -0.126261 -0.126644 -0.661908 -0.349793  0.454851  0.137843   24.90   \n",
              "98319 -0.040176  0.110040  0.437891  0.368809 -0.018287  0.031173    0.76   \n",
              "98864 -0.050619  0.231044 -0.450760 -0.376205  0.034504  0.157775    7.58   \n",
              "99086 -0.032977  0.460861  0.560404  0.409366  0.539668  0.296918    0.76   \n",
              "\n",
              "       Class  \n",
              "95359    1.0  \n",
              "95651    1.0  \n",
              "98319    1.0  \n",
              "98864    1.0  \n",
              "99086    1.0  \n",
              "\n",
              "[5 rows x 31 columns]"
            ],
            "text/html": [
              "\n",
              "  <div id=\"df-0569a11a-1704-4ec3-a864-46d51ebe1581\">\n",
              "    <div class=\"colab-df-container\">\n",
              "      <div>\n",
              "<style scoped>\n",
              "    .dataframe tbody tr th:only-of-type {\n",
              "        vertical-align: middle;\n",
              "    }\n",
              "\n",
              "    .dataframe tbody tr th {\n",
              "        vertical-align: top;\n",
              "    }\n",
              "\n",
              "    .dataframe thead th {\n",
              "        text-align: right;\n",
              "    }\n",
              "</style>\n",
              "<table border=\"1\" class=\"dataframe\">\n",
              "  <thead>\n",
              "    <tr style=\"text-align: right;\">\n",
              "      <th></th>\n",
              "      <th>Time</th>\n",
              "      <th>V1</th>\n",
              "      <th>V2</th>\n",
              "      <th>V3</th>\n",
              "      <th>V4</th>\n",
              "      <th>V5</th>\n",
              "      <th>V6</th>\n",
              "      <th>V7</th>\n",
              "      <th>V8</th>\n",
              "      <th>V9</th>\n",
              "      <th>...</th>\n",
              "      <th>V21</th>\n",
              "      <th>V22</th>\n",
              "      <th>V23</th>\n",
              "      <th>V24</th>\n",
              "      <th>V25</th>\n",
              "      <th>V26</th>\n",
              "      <th>V27</th>\n",
              "      <th>V28</th>\n",
              "      <th>Amount</th>\n",
              "      <th>Class</th>\n",
              "    </tr>\n",
              "  </thead>\n",
              "  <tbody>\n",
              "    <tr>\n",
              "      <th>95359</th>\n",
              "      <td>43369.0</td>\n",
              "      <td>-3.365319</td>\n",
              "      <td>2.42650326490524</td>\n",
              "      <td>-3.752227</td>\n",
              "      <td>0.276017</td>\n",
              "      <td>-2.305870</td>\n",
              "      <td>-1.961578</td>\n",
              "      <td>-3.029283</td>\n",
              "      <td>-1.674462</td>\n",
              "      <td>0.183961</td>\n",
              "      <td>...</td>\n",
              "      <td>2.070008</td>\n",
              "      <td>-0.512626</td>\n",
              "      <td>-0.248502</td>\n",
              "      <td>0.126550</td>\n",
              "      <td>0.104166</td>\n",
              "      <td>-1.055997</td>\n",
              "      <td>-1.200165</td>\n",
              "      <td>-1.012066</td>\n",
              "      <td>88.00</td>\n",
              "      <td>1.0</td>\n",
              "    </tr>\n",
              "    <tr>\n",
              "      <th>95651</th>\n",
              "      <td>43494.0</td>\n",
              "      <td>-1.278138</td>\n",
              "      <td>0.716241580332591</td>\n",
              "      <td>-1.143279</td>\n",
              "      <td>0.217805</td>\n",
              "      <td>-1.293890</td>\n",
              "      <td>-1.168952</td>\n",
              "      <td>-2.564182</td>\n",
              "      <td>0.204532</td>\n",
              "      <td>-1.611155</td>\n",
              "      <td>...</td>\n",
              "      <td>0.490183</td>\n",
              "      <td>0.470427</td>\n",
              "      <td>-0.126261</td>\n",
              "      <td>-0.126644</td>\n",
              "      <td>-0.661908</td>\n",
              "      <td>-0.349793</td>\n",
              "      <td>0.454851</td>\n",
              "      <td>0.137843</td>\n",
              "      <td>24.90</td>\n",
              "      <td>1.0</td>\n",
              "    </tr>\n",
              "    <tr>\n",
              "      <th>98319</th>\n",
              "      <td>47545.0</td>\n",
              "      <td>1.176716</td>\n",
              "      <td>0.557091</td>\n",
              "      <td>-0.490800</td>\n",
              "      <td>0.756424</td>\n",
              "      <td>0.249192</td>\n",
              "      <td>-0.781871</td>\n",
              "      <td>0.228750</td>\n",
              "      <td>-0.040840</td>\n",
              "      <td>-0.432111</td>\n",
              "      <td>...</td>\n",
              "      <td>-0.062166</td>\n",
              "      <td>-0.128168</td>\n",
              "      <td>-0.040176</td>\n",
              "      <td>0.110040</td>\n",
              "      <td>0.437891</td>\n",
              "      <td>0.368809</td>\n",
              "      <td>-0.018287</td>\n",
              "      <td>0.031173</td>\n",
              "      <td>0.76</td>\n",
              "      <td>1.0</td>\n",
              "    </tr>\n",
              "    <tr>\n",
              "      <th>98864</th>\n",
              "      <td>47826.0</td>\n",
              "      <td>-0.887287</td>\n",
              "      <td>1.390002</td>\n",
              "      <td>1.219686</td>\n",
              "      <td>1.661425</td>\n",
              "      <td>1.009228</td>\n",
              "      <td>-0.733908</td>\n",
              "      <td>0.855829</td>\n",
              "      <td>0.000077</td>\n",
              "      <td>-1.275631</td>\n",
              "      <td>...</td>\n",
              "      <td>-0.083734</td>\n",
              "      <td>-0.346930</td>\n",
              "      <td>-0.050619</td>\n",
              "      <td>0.231044</td>\n",
              "      <td>-0.450760</td>\n",
              "      <td>-0.376205</td>\n",
              "      <td>0.034504</td>\n",
              "      <td>0.157775</td>\n",
              "      <td>7.58</td>\n",
              "      <td>1.0</td>\n",
              "    </tr>\n",
              "    <tr>\n",
              "      <th>99086</th>\n",
              "      <td>47923.0</td>\n",
              "      <td>0.364377</td>\n",
              "      <td>1.443523</td>\n",
              "      <td>-2.220907</td>\n",
              "      <td>2.036985</td>\n",
              "      <td>-1.237055</td>\n",
              "      <td>-1.728161</td>\n",
              "      <td>-2.058582</td>\n",
              "      <td>0.358895</td>\n",
              "      <td>-1.393306</td>\n",
              "      <td>...</td>\n",
              "      <td>0.40273</td>\n",
              "      <td>-0.132129</td>\n",
              "      <td>-0.032977</td>\n",
              "      <td>0.460861</td>\n",
              "      <td>0.560404</td>\n",
              "      <td>0.409366</td>\n",
              "      <td>0.539668</td>\n",
              "      <td>0.296918</td>\n",
              "      <td>0.76</td>\n",
              "      <td>1.0</td>\n",
              "    </tr>\n",
              "  </tbody>\n",
              "</table>\n",
              "<p>5 rows × 31 columns</p>\n",
              "</div>\n",
              "      <button class=\"colab-df-convert\" onclick=\"convertToInteractive('df-0569a11a-1704-4ec3-a864-46d51ebe1581')\"\n",
              "              title=\"Convert this dataframe to an interactive table.\"\n",
              "              style=\"display:none;\">\n",
              "        \n",
              "  <svg xmlns=\"http://www.w3.org/2000/svg\" height=\"24px\"viewBox=\"0 0 24 24\"\n",
              "       width=\"24px\">\n",
              "    <path d=\"M0 0h24v24H0V0z\" fill=\"none\"/>\n",
              "    <path d=\"M18.56 5.44l.94 2.06.94-2.06 2.06-.94-2.06-.94-.94-2.06-.94 2.06-2.06.94zm-11 1L8.5 8.5l.94-2.06 2.06-.94-2.06-.94L8.5 2.5l-.94 2.06-2.06.94zm10 10l.94 2.06.94-2.06 2.06-.94-2.06-.94-.94-2.06-.94 2.06-2.06.94z\"/><path d=\"M17.41 7.96l-1.37-1.37c-.4-.4-.92-.59-1.43-.59-.52 0-1.04.2-1.43.59L10.3 9.45l-7.72 7.72c-.78.78-.78 2.05 0 2.83L4 21.41c.39.39.9.59 1.41.59.51 0 1.02-.2 1.41-.59l7.78-7.78 2.81-2.81c.8-.78.8-2.07 0-2.86zM5.41 20L4 18.59l7.72-7.72 1.47 1.35L5.41 20z\"/>\n",
              "  </svg>\n",
              "      </button>\n",
              "      \n",
              "  <style>\n",
              "    .colab-df-container {\n",
              "      display:flex;\n",
              "      flex-wrap:wrap;\n",
              "      gap: 12px;\n",
              "    }\n",
              "\n",
              "    .colab-df-convert {\n",
              "      background-color: #E8F0FE;\n",
              "      border: none;\n",
              "      border-radius: 50%;\n",
              "      cursor: pointer;\n",
              "      display: none;\n",
              "      fill: #1967D2;\n",
              "      height: 32px;\n",
              "      padding: 0 0 0 0;\n",
              "      width: 32px;\n",
              "    }\n",
              "\n",
              "    .colab-df-convert:hover {\n",
              "      background-color: #E2EBFA;\n",
              "      box-shadow: 0px 1px 2px rgba(60, 64, 67, 0.3), 0px 1px 3px 1px rgba(60, 64, 67, 0.15);\n",
              "      fill: #174EA6;\n",
              "    }\n",
              "\n",
              "    [theme=dark] .colab-df-convert {\n",
              "      background-color: #3B4455;\n",
              "      fill: #D2E3FC;\n",
              "    }\n",
              "\n",
              "    [theme=dark] .colab-df-convert:hover {\n",
              "      background-color: #434B5C;\n",
              "      box-shadow: 0px 1px 3px 1px rgba(0, 0, 0, 0.15);\n",
              "      filter: drop-shadow(0px 1px 2px rgba(0, 0, 0, 0.3));\n",
              "      fill: #FFFFFF;\n",
              "    }\n",
              "  </style>\n",
              "\n",
              "      <script>\n",
              "        const buttonEl =\n",
              "          document.querySelector('#df-0569a11a-1704-4ec3-a864-46d51ebe1581 button.colab-df-convert');\n",
              "        buttonEl.style.display =\n",
              "          google.colab.kernel.accessAllowed ? 'block' : 'none';\n",
              "\n",
              "        async function convertToInteractive(key) {\n",
              "          const element = document.querySelector('#df-0569a11a-1704-4ec3-a864-46d51ebe1581');\n",
              "          const dataTable =\n",
              "            await google.colab.kernel.invokeFunction('convertToInteractive',\n",
              "                                                     [key], {});\n",
              "          if (!dataTable) return;\n",
              "\n",
              "          const docLinkHtml = 'Like what you see? Visit the ' +\n",
              "            '<a target=\"_blank\" href=https://colab.research.google.com/notebooks/data_table.ipynb>data table notebook</a>'\n",
              "            + ' to learn more about interactive tables.';\n",
              "          element.innerHTML = '';\n",
              "          dataTable['output_type'] = 'display_data';\n",
              "          await google.colab.output.renderOutput(dataTable, element);\n",
              "          const docLink = document.createElement('div');\n",
              "          docLink.innerHTML = docLinkHtml;\n",
              "          element.appendChild(docLink);\n",
              "        }\n",
              "      </script>\n",
              "    </div>\n",
              "  </div>\n",
              "  "
            ]
          },
          "metadata": {},
          "execution_count": 17
        }
      ]
    },
    {
      "cell_type": "code",
      "source": [
        "import matplotlib.pyplot as plt\n",
        "\n",
        "class_counts = new_dataset['Class'].value_counts()\n",
        "\n",
        "plt.pie(class_counts, labels=['Normal', 'Fraudulent'], autopct='%1.1f%%', startangle=90, colors=['skyblue', 'lightcoral'])\n",
        "\n",
        "plt.title('Distribution of Transaction Classes')\n",
        "\n",
        "plt.axis('equal')\n",
        "\n",
        "plt.show()\n"
      ],
      "metadata": {
        "colab": {
          "base_uri": "https://localhost:8080/",
          "height": 428
        },
        "id": "8lTweJtQsyUi",
        "outputId": "aa5b2f15-3f80-46e4-e892-006011ec5f23"
      },
      "execution_count": null,
      "outputs": [
        {
          "output_type": "display_data",
          "data": {
            "text/plain": [
              "<Figure size 640x480 with 1 Axes>"
            ],
            "image/png": "[encoded data removed]"
          },
          "metadata": {}
        }
      ]
    },
    {
      "cell_type": "code",
      "source": [
        "new_dataset.groupby('Class').mean()"
      ],
      "metadata": {
        "colab": {
          "base_uri": "https://localhost:8080/",
          "height": 271
        },
        "id": "P8JPjdi1s1WX",
        "outputId": "41d5f6b4-7f14-4695-91b2-fdcdb121fef5"
      },
      "execution_count": null,
      "outputs": [
        {
          "output_type": "stream",
          "name": "stderr",
          "text": [
            "<ipython-input-19-586b59598b15>:1: FutureWarning: The default value of numeric_only in DataFrameGroupBy.mean is deprecated. In a future version, numeric_only will default to False. Either specify numeric_only or select only columns which should be valid for the function.\n",
            "  new_dataset.groupby('Class').mean()\n"
          ]
        },
        {
          "output_type": "execute_result",
          "data": {
            "text/plain": [
              "               Time        V1         V3        V4        V5        V6  \\\n",
              "Class                                                                    \n",
              "0.0    31926.807114 -0.137625   0.706929  0.229670 -0.204766  0.146888   \n",
              "1.0    29360.000000 -7.986823 -10.529847  5.884599 -5.926929 -2.254703   \n",
              "\n",
              "             V7        V8        V9       V10  ...       V19       V20  \\\n",
              "Class                                          ...                       \n",
              "0.0   -0.137250  0.082236  0.036808 -0.039229  ...  0.007350  0.049534   \n",
              "1.0   -8.322726  3.875556 -3.663883 -7.557557  ...  0.979829  0.472092   \n",
              "\n",
              "            V22       V23       V24       V25       V26       V27       V28  \\\n",
              "Class                                                                         \n",
              "0.0   -0.122940 -0.043843 -0.015081  0.131303  0.005482 -0.017977  0.011074   \n",
              "1.0   -0.214023 -0.291956 -0.074127  0.258069  0.130705  0.602472  0.013945   \n",
              "\n",
              "          Amount  \n",
              "Class             \n",
              "0.0    91.591286  \n",
              "1.0    96.152128  \n",
              "\n",
              "[2 rows x 27 columns]"
            ],
            "text/html": [
              "\n",
              "  <div id=\"df-1ae5e962-14f5-4cca-a3bb-c97167415375\">\n",
              "    <div class=\"colab-df-container\">\n",
              "      <div>\n",
              "<style scoped>\n",
              "    .dataframe tbody tr th:only-of-type {\n",
              "        vertical-align: middle;\n",
              "    }\n",
              "\n",
              "    .dataframe tbody tr th {\n",
              "        vertical-align: top;\n",
              "    }\n",
              "\n",
              "    .dataframe thead th {\n",
              "        text-align: right;\n",
              "    }\n",
              "</style>\n",
              "<table border=\"1\" class=\"dataframe\">\n",
              "  <thead>\n",
              "    <tr style=\"text-align: right;\">\n",
              "      <th></th>\n",
              "      <th>Time</th>\n",
              "      <th>V1</th>\n",
              "      <th>V3</th>\n",
              "      <th>V4</th>\n",
              "      <th>V5</th>\n",
              "      <th>V6</th>\n",
              "      <th>V7</th>\n",
              "      <th>V8</th>\n",
              "      <th>V9</th>\n",
              "      <th>V10</th>\n",
              "      <th>...</th>\n",
              "      <th>V19</th>\n",
              "      <th>V20</th>\n",
              "      <th>V22</th>\n",
              "      <th>V23</th>\n",
              "      <th>V24</th>\n",
              "      <th>V25</th>\n",
              "      <th>V26</th>\n",
              "      <th>V27</th>\n",
              "      <th>V28</th>\n",
              "      <th>Amount</th>\n",
              "    </tr>\n",
              "    <tr>\n",
              "      <th>Class</th>\n",
              "      <th></th>\n",
              "      <th></th>\n",
              "      <th></th>\n",
              "      <th></th>\n",
              "      <th></th>\n",
              "      <th></th>\n",
              "      <th></th>\n",
              "      <th></th>\n",
              "      <th></th>\n",
              "      <th></th>\n",
              "      <th></th>\n",
              "      <th></th>\n",
              "      <th></th>\n",
              "      <th></th>\n",
              "      <th></th>\n",
              "      <th></th>\n",
              "      <th></th>\n",
              "      <th></th>\n",
              "      <th></th>\n",
              "      <th></th>\n",
              "      <th></th>\n",
              "    </tr>\n",
              "  </thead>\n",
              "  <tbody>\n",
              "    <tr>\n",
              "      <th>0.0</th>\n",
              "      <td>31926.807114</td>\n",
              "      <td>-0.137625</td>\n",
              "      <td>0.706929</td>\n",
              "      <td>0.229670</td>\n",
              "      <td>-0.204766</td>\n",
              "      <td>0.146888</td>\n",
              "      <td>-0.137250</td>\n",
              "      <td>0.082236</td>\n",
              "      <td>0.036808</td>\n",
              "      <td>-0.039229</td>\n",
              "      <td>...</td>\n",
              "      <td>0.007350</td>\n",
              "      <td>0.049534</td>\n",
              "      <td>-0.122940</td>\n",
              "      <td>-0.043843</td>\n",
              "      <td>-0.015081</td>\n",
              "      <td>0.131303</td>\n",
              "      <td>0.005482</td>\n",
              "      <td>-0.017977</td>\n",
              "      <td>0.011074</td>\n",
              "      <td>91.591286</td>\n",
              "    </tr>\n",
              "    <tr>\n",
              "      <th>1.0</th>\n",
              "      <td>29360.000000</td>\n",
              "      <td>-7.986823</td>\n",
              "      <td>-10.529847</td>\n",
              "      <td>5.884599</td>\n",
              "      <td>-5.926929</td>\n",
              "      <td>-2.254703</td>\n",
              "      <td>-8.322726</td>\n",
              "      <td>3.875556</td>\n",
              "      <td>-3.663883</td>\n",
              "      <td>-7.557557</td>\n",
              "      <td>...</td>\n",
              "      <td>0.979829</td>\n",
              "      <td>0.472092</td>\n",
              "      <td>-0.214023</td>\n",
              "      <td>-0.291956</td>\n",
              "      <td>-0.074127</td>\n",
              "      <td>0.258069</td>\n",
              "      <td>0.130705</td>\n",
              "      <td>0.602472</td>\n",
              "      <td>0.013945</td>\n",
              "      <td>96.152128</td>\n",
              "    </tr>\n",
              "  </tbody>\n",
              "</table>\n",
              "<p>2 rows × 27 columns</p>\n",
              "</div>\n",
              "      <button class=\"colab-df-convert\" onclick=\"convertToInteractive('df-1ae5e962-14f5-4cca-a3bb-c97167415375')\"\n",
              "              title=\"Convert this dataframe to an interactive table.\"\n",
              "              style=\"display:none;\">\n",
              "        \n",
              "  <svg xmlns=\"http://www.w3.org/2000/svg\" height=\"24px\"viewBox=\"0 0 24 24\"\n",
              "       width=\"24px\">\n",
              "    <path d=\"M0 0h24v24H0V0z\" fill=\"none\"/>\n",
              "    <path d=\"M18.56 5.44l.94 2.06.94-2.06 2.06-.94-2.06-.94-.94-2.06-.94 2.06-2.06.94zm-11 1L8.5 8.5l.94-2.06 2.06-.94-2.06-.94L8.5 2.5l-.94 2.06-2.06.94zm10 10l.94 2.06.94-2.06 2.06-.94-2.06-.94-.94-2.06-.94 2.06-2.06.94z\"/><path d=\"M17.41 7.96l-1.37-1.37c-.4-.4-.92-.59-1.43-.59-.52 0-1.04.2-1.43.59L10.3 9.45l-7.72 7.72c-.78.78-.78 2.05 0 2.83L4 21.41c.39.39.9.59 1.41.59.51 0 1.02-.2 1.41-.59l7.78-7.78 2.81-2.81c.8-.78.8-2.07 0-2.86zM5.41 20L4 18.59l7.72-7.72 1.47 1.35L5.41 20z\"/>\n",
              "  </svg>\n",
              "      </button>\n",
              "      \n",
              "  <style>\n",
              "    .colab-df-container {\n",
              "      display:flex;\n",
              "      flex-wrap:wrap;\n",
              "      gap: 12px;\n",
              "    }\n",
              "\n",
              "    .colab-df-convert {\n",
              "      background-color: #E8F0FE;\n",
              "      border: none;\n",
              "      border-radius: 50%;\n",
              "      cursor: pointer;\n",
              "      display: none;\n",
              "      fill: #1967D2;\n",
              "      height: 32px;\n",
              "      padding: 0 0 0 0;\n",
              "      width: 32px;\n",
              "    }\n",
              "\n",
              "    .colab-df-convert:hover {\n",
              "      background-color: #E2EBFA;\n",
              "      box-shadow: 0px 1px 2px rgba(60, 64, 67, 0.3), 0px 1px 3px 1px rgba(60, 64, 67, 0.15);\n",
              "      fill: #174EA6;\n",
              "    }\n",
              "\n",
              "    [theme=dark] .colab-df-convert {\n",
              "      background-color: #3B4455;\n",
              "      fill: #D2E3FC;\n",
              "    }\n",
              "\n",
              "    [theme=dark] .colab-df-convert:hover {\n",
              "      background-color: #434B5C;\n",
              "      box-shadow: 0px 1px 3px 1px rgba(0, 0, 0, 0.15);\n",
              "      filter: drop-shadow(0px 1px 2px rgba(0, 0, 0, 0.3));\n",
              "      fill: #FFFFFF;\n",
              "    }\n",
              "  </style>\n",
              "\n",
              "      <script>\n",
              "        const buttonEl =\n",
              "          document.querySelector('#df-1ae5e962-14f5-4cca-a3bb-c97167415375 button.colab-df-convert');\n",
              "        buttonEl.style.display =\n",
              "          google.colab.kernel.accessAllowed ? 'block' : 'none';\n",
              "\n",
              "        async function convertToInteractive(key) {\n",
              "          const element = document.querySelector('#df-1ae5e962-14f5-4cca-a3bb-c97167415375');\n",
              "          const dataTable =\n",
              "            await google.colab.kernel.invokeFunction('convertToInteractive',\n",
              "                                                     [key], {});\n",
              "          if (!dataTable) return;\n",
              "\n",
              "          const docLinkHtml = 'Like what you see? Visit the ' +\n",
              "            '<a target=\"_blank\" href=https://colab.research.google.com/notebooks/data_table.ipynb>data table notebook</a>'\n",
              "            + ' to learn more about interactive tables.';\n",
              "          element.innerHTML = '';\n",
              "          dataTable['output_type'] = 'display_data';\n",
              "          await google.colab.output.renderOutput(dataTable, element);\n",
              "          const docLink = document.createElement('div');\n",
              "          docLink.innerHTML = docLinkHtml;\n",
              "          element.appendChild(docLink);\n",
              "        }\n",
              "      </script>\n",
              "    </div>\n",
              "  </div>\n",
              "  "
            ]
          },
          "metadata": {},
          "execution_count": 19
        }
      ]
    },
    {
      "cell_type": "markdown",
      "source": [
        "#**6. Splitting the data into Features & Targets**\n"
      ],
      "metadata": {
        "id": "nZd8J0pZtta1"
      }
    },
    {
      "cell_type": "code",
      "source": [
        "X = new_dataset.drop(columns='Class', axis=1)\n",
        "Y = new_dataset['Class']"
      ],
      "metadata": {
        "id": "Q4KpLCcltDAK"
      },
      "execution_count": null,
      "outputs": []
    },
    {
      "cell_type": "code",
      "source": [
        "print(X)"
      ],
      "metadata": {
        "colab": {
          "base_uri": "https://localhost:8080/"
        },
        "id": "qjkxlXijuBEe",
        "outputId": "1323b009-6e00-4803-c7ff-63057565b8a6"
      },
      "execution_count": null,
      "outputs": [
        {
          "output_type": "stream",
          "name": "stdout",
          "text": [
            "          Time         V1                  V2        V3        V4        V5  \\\n",
            "95887  43593.0  -0.660322    1.03279100564278  1.082341  0.944963 -0.460496   \n",
            "46361  35949.0   1.186527             0.31306  0.200513  1.678970 -0.050205   \n",
            "89485  45144.0 -11.999298   -13.9568366855898  0.173530  2.824796  8.047599   \n",
            "2373   11177.0   0.941270  0.0881820171854246  0.295006  1.435827 -0.208409   \n",
            "33197  28625.0  -3.736432            3.370888 -5.460398  1.954062 -1.960729   \n",
            "...        ...        ...                 ...       ...       ...       ...   \n",
            "95359  43369.0  -3.365319    2.42650326490524 -3.752227  0.276017 -2.305870   \n",
            "95651  43494.0  -1.278138   0.716241580332591 -1.143279  0.217805 -1.293890   \n",
            "98319  47545.0   1.176716            0.557091 -0.490800  0.756424  0.249192   \n",
            "98864  47826.0  -0.887287            1.390002  1.219686  1.661425  1.009228   \n",
            "99086  47923.0   0.364377            1.443523 -2.220907  2.036985 -1.237055   \n",
            "\n",
            "             V6        V7        V8        V9  ...       V20  \\\n",
            "95887 -0.001552  1.037260  0.079273 -0.192663  ...  0.166166   \n",
            "46361 -0.445124  0.165314 -0.043547 -0.606329  ... -0.197029   \n",
            "89485 -4.905405 -4.069815 -0.933125  2.409828  ... -4.811042   \n",
            "2373  -0.825199  0.446951 -0.447491  1.002858  ...  0.240705   \n",
            "33197 -2.208190 -1.171518  2.659153 -0.284688  ... -0.019174   \n",
            "...         ...       ...       ...       ...  ...       ...   \n",
            "95359 -1.961578 -3.029283 -1.674462  0.183961  ... -0.036837   \n",
            "95651 -1.168952 -2.564182  0.204532 -1.611155  ...  0.817203   \n",
            "98319 -0.781871  0.228750 -0.040840 -0.432111  ... -0.102772   \n",
            "98864 -0.733908  0.855829  0.000077 -1.275631  ... -0.268347   \n",
            "99086 -1.728161 -2.058582  0.358895 -1.393306  ...  0.310980   \n",
            "\n",
            "                        V21       V22       V23       V24       V25       V26  \\\n",
            "95887              -0.17324 -0.331609  0.078448 -0.006142 -0.042470 -0.416678   \n",
            "46361             -0.063996 -0.272409  0.024617  0.094243  0.288406  0.970634   \n",
            "89485             -1.718835  0.088198 -2.264306  0.268877 -0.678225  0.896077   \n",
            "2373   -0.00791949226879717 -0.010321 -0.246794  0.389563  0.660980 -0.389446   \n",
            "33197             -0.099896 -0.543020 -0.040642  0.052004 -0.120554 -0.379438   \n",
            "...                     ...       ...       ...       ...       ...       ...   \n",
            "95359              2.070008 -0.512626 -0.248502  0.126550  0.104166 -1.055997   \n",
            "95651              0.490183  0.470427 -0.126261 -0.126644 -0.661908 -0.349793   \n",
            "98319             -0.062166 -0.128168 -0.040176  0.110040  0.437891  0.368809   \n",
            "98864             -0.083734 -0.346930 -0.050619  0.231044 -0.450760 -0.376205   \n",
            "99086               0.40273 -0.132129 -0.032977  0.460861  0.560404  0.409366   \n",
            "\n",
            "            V27       V28  Amount  \n",
            "95887  0.467405  0.134475  129.70  \n",
            "46361 -0.092555 -0.002575   15.99  \n",
            "89485 -0.246275  3.628542  595.58  \n",
            "2373  -0.032424  0.045139  163.41  \n",
            "33197  0.136217 -0.237987   89.99  \n",
            "...         ...       ...     ...  \n",
            "95359 -1.200165 -1.012066   88.00  \n",
            "95651  0.454851  0.137843   24.90  \n",
            "98319 -0.018287  0.031173    0.76  \n",
            "98864  0.034504  0.157775    7.58  \n",
            "99086  0.539668  0.296918    0.76  \n",
            "\n",
            "[1013 rows x 30 columns]\n"
          ]
        }
      ]
    },
    {
      "cell_type": "code",
      "source": [
        "print(Y)"
      ],
      "metadata": {
        "colab": {
          "base_uri": "https://localhost:8080/"
        },
        "id": "VXdH7FKKuC01",
        "outputId": "e41fe1ba-0078-4d08-9ec5-343acb00b2c5"
      },
      "execution_count": null,
      "outputs": [
        {
          "output_type": "stream",
          "name": "stdout",
          "text": [
            "95887    0.0\n",
            "46361    0.0\n",
            "89485    0.0\n",
            "2373     0.0\n",
            "33197    0.0\n",
            "        ... \n",
            "95359    1.0\n",
            "95651    1.0\n",
            "98319    1.0\n",
            "98864    1.0\n",
            "99086    1.0\n",
            "Name: Class, Length: 1013, dtype: float64\n"
          ]
        }
      ]
    },
    {
      "cell_type": "code",
      "source": [
        "# Split the data into Training data & Testing Data\n",
        "X_train, X_test, Y_train, Y_test = train_test_split(X, Y, test_size=0.2, stratify=Y, random_state=2)\n"
      ],
      "metadata": {
        "id": "Jvwh7_WduFds"
      },
      "execution_count": null,
      "outputs": []
    },
    {
      "cell_type": "code",
      "source": [
        "print(X.shape, X_train.shape, X_test.shape)"
      ],
      "metadata": {
        "colab": {
          "base_uri": "https://localhost:8080/"
        },
        "id": "ainamlbLuRJ4",
        "outputId": "e98f5355-5f66-4c36-c2f8-925839fe0b3f"
      },
      "execution_count": null,
      "outputs": [
        {
          "output_type": "stream",
          "name": "stdout",
          "text": [
            "(1013, 30) (810, 30) (203, 30)\n"
          ]
        }
      ]
    },
    {
      "cell_type": "markdown",
      "source": [
        "#**7. Model training**"
      ],
      "metadata": {
        "id": "TV25PeWEuapE"
      }
    },
    {
      "cell_type": "code",
      "source": [
        "# Logistic Regression\n",
        "model = LogisticRegression(max_iter=10000)"
      ],
      "metadata": {
        "id": "slylbXvauWGM"
      },
      "execution_count": null,
      "outputs": []
    },
    {
      "cell_type": "code",
      "source": [
        "# training the Logistic Regression Model with Training Data\n",
        "model.fit(X_train, Y_train)"
      ],
      "metadata": {
        "colab": {
          "base_uri": "https://localhost:8080/",
          "height": 74
        },
        "id": "tTl_zbo2ukRa",
        "outputId": "a5543a41-5c91-4c0c-ad37-3b3027cd7fd2"
      },
      "execution_count": null,
      "outputs": [
        {
          "output_type": "execute_result",
          "data": {
            "text/plain": [
              "LogisticRegression(max_iter=10000)"
            ],
            "text/html": [
              "<style>#sk-container-id-1 {color: black;background-color: white;}#sk-container-id-1 pre{padding: 0;}#sk-container-id-1 div.sk-toggleable {background-color: white;}#sk-container-id-1 label.sk-toggleable__label {cursor: pointer;display: block;width: 100%;margin-bottom: 0;padding: 0.3em;box-sizing: border-box;text-align: center;}#sk-container-id-1 label.sk-toggleable__label-arrow:before {content: \"▸\";float: left;margin-right: 0.25em;color: #696969;}#sk-container-id-1 label.sk-toggleable__label-arrow:hover:before {color: black;}#sk-container-id-1 div.sk-estimator:hover label.sk-toggleable__label-arrow:before {color: black;}#sk-container-id-1 div.sk-toggleable__content {max-height: 0;max-width: 0;overflow: hidden;text-align: left;background-color: #f0f8ff;}#sk-container-id-1 div.sk-toggleable__content pre {margin: 0.2em;color: black;border-radius: 0.25em;background-color: #f0f8ff;}#sk-container-id-1 input.sk-toggleable__control:checked~div.sk-toggleable__content {max-height: 200px;max-width: 100%;overflow: auto;}#sk-container-id-1 input.sk-toggleable__control:checked~label.sk-toggleable__label-arrow:before {content: \"▾\";}#sk-container-id-1 div.sk-estimator input.sk-toggleable__control:checked~label.sk-toggleable__label {background-color: #d4ebff;}#sk-container-id-1 div.sk-label input.sk-toggleable__control:checked~label.sk-toggleable__label {background-color: #d4ebff;}#sk-container-id-1 input.sk-hidden--visually {border: 0;clip: rect(1px 1px 1px 1px);clip: rect(1px, 1px, 1px, 1px);height: 1px;margin: -1px;overflow: hidden;padding: 0;position: absolute;width: 1px;}#sk-container-id-1 div.sk-estimator {font-family: monospace;background-color: #f0f8ff;border: 1px dotted black;border-radius: 0.25em;box-sizing: border-box;margin-bottom: 0.5em;}#sk-container-id-1 div.sk-estimator:hover {background-color: #d4ebff;}#sk-container-id-1 div.sk-parallel-item::after {content: \"\";width: 100%;border-bottom: 1px solid gray;flex-grow: 1;}#sk-container-id-1 div.sk-label:hover label.sk-toggleable__label {background-color: #d4ebff;}#sk-container-id-1 div.sk-serial::before {content: \"\";position: absolute;border-left: 1px solid gray;box-sizing: border-box;top: 0;bottom: 0;left: 50%;z-index: 0;}#sk-container-id-1 div.sk-serial {display: flex;flex-direction: column;align-items: center;background-color: white;padding-right: 0.2em;padding-left: 0.2em;position: relative;}#sk-container-id-1 div.sk-item {position: relative;z-index: 1;}#sk-container-id-1 div.sk-parallel {display: flex;align-items: stretch;justify-content: center;background-color: white;position: relative;}#sk-container-id-1 div.sk-item::before, #sk-container-id-1 div.sk-parallel-item::before {content: \"\";position: absolute;border-left: 1px solid gray;box-sizing: border-box;top: 0;bottom: 0;left: 50%;z-index: -1;}#sk-container-id-1 div.sk-parallel-item {display: flex;flex-direction: column;z-index: 1;position: relative;background-color: white;}#sk-container-id-1 div.sk-parallel-item:first-child::after {align-self: flex-end;width: 50%;}#sk-container-id-1 div.sk-parallel-item:last-child::after {align-self: flex-start;width: 50%;}#sk-container-id-1 div.sk-parallel-item:only-child::after {width: 0;}#sk-container-id-1 div.sk-dashed-wrapped {border: 1px dashed gray;margin: 0 0.4em 0.5em 0.4em;box-sizing: border-box;padding-bottom: 0.4em;background-color: white;}#sk-container-id-1 div.sk-label label {font-family: monospace;font-weight: bold;display: inline-block;line-height: 1.2em;}#sk-container-id-1 div.sk-label-container {text-align: center;}#sk-container-id-1 div.sk-container {/* jupyter's `normalize.less` sets `[hidden] { display: none; }` but bootstrap.min.css set `[hidden] { display: none !important; }` so we also need the `!important` here to be able to override the default hidden behavior on the sphinx rendered scikit-learn.org. See: https://github.com/scikit-learn/scikit-learn/issues/21755 */display: inline-block !important;position: relative;}#sk-container-id-1 div.sk-text-repr-fallback {display: none;}</style><div id=\"sk-container-id-1\" class=\"sk-top-container\"><div class=\"sk-text-repr-fallback\"><pre>LogisticRegression(max_iter=10000)</pre><b>In a Jupyter environment, please rerun this cell to show the HTML representation or trust the notebook. <br />On GitHub, the HTML representation is unable to render, please try loading this page with nbviewer.org.</b></div><div class=\"sk-container\" hidden><div class=\"sk-item\"><div class=\"sk-estimator sk-toggleable\"><input class=\"sk-toggleable__control sk-hidden--visually\" id=\"sk-estimator-id-1\" type=\"checkbox\" checked><label for=\"sk-estimator-id-1\" class=\"sk-toggleable__label sk-toggleable__label-arrow\">LogisticRegression</label><div class=\"sk-toggleable__content\"><pre>LogisticRegression(max_iter=10000)</pre></div></div></div></div></div>"
            ]
          },
          "metadata": {},
          "execution_count": 26
        }
      ]
    },
    {
      "cell_type": "markdown",
      "source": [
        "#**8. Model Evaluation**"
      ],
      "metadata": {
        "id": "EArkcPv2v45h"
      }
    },
    {
      "cell_type": "code",
      "source": [
        "import matplotlib.pyplot as plt\n",
        "\n",
        "counts = credit_card_data['Class'].value_counts()\n",
        "\n",
        "plt.pie(counts, labels=['Normal', 'Fraudulent'], autopct='%1.1f%%', startangle=90)\n",
        "plt.title('Distribution of Normal and Fraudulent Transactions')\n",
        "plt.axis('equal')\n",
        "plt.show()"
      ],
      "metadata": {
        "id": "xiM1ABGAuurj",
        "colab": {
          "base_uri": "https://localhost:8080/",
          "height": 435
        },
        "outputId": "08102f01-e258-480d-f6dd-eb00bbd69ec3"
      },
      "execution_count": null,
      "outputs": [
        {
          "output_type": "display_data",
          "data": {
            "text/plain": [
              "<Figure size 640x480 with 1 Axes>"
            ],
            "image/png": "[encoded data removed]"
          },
          "metadata": {}
        }
      ]
    },
    {
      "cell_type": "code",
      "source": [
        "from sklearn.metrics import accuracy_score\n",
        "\n",
        "# Predict class labels for the training data\n",
        "predicted_labels = model.predict(X_train)\n",
        "\n",
        "# Calculate the training data accuracy score\n",
        "training_data_accuracy = accuracy_score(predicted_labels, Y_train)\n",
        "\n",
        "# Print the training data accuracy score\n",
        "print(\"Training Data Accuracy:\", training_data_accuracy)\n"
      ],
      "metadata": {
        "colab": {
          "base_uri": "https://localhost:8080/"
        },
        "id": "aDZw5cjMv9CT",
        "outputId": "ab5bbd30-c17c-4634-f1f8-d4c87df76605"
      },
      "execution_count": null,
      "outputs": [
        {
          "output_type": "stream",
          "name": "stdout",
          "text": [
            "Training Data Accuracy: 0.9814814814814815\n"
          ]
        }
      ]
    },
    {
      "cell_type": "code",
      "source": [
        "# accuracy on test data\n",
        "X_test_prediction = model.predict(X_test)\n",
        "\n",
        "test_data_accuracy = accuracy_score(X_test_prediction, Y_test)"
      ],
      "metadata": {
        "id": "Wvj4hwAYwAGo"
      },
      "execution_count": null,
      "outputs": []
    },
    {
      "cell_type": "code",
      "source": [
        "print('Accuracy score on Test Data : ', test_data_accuracy)"
      ],
      "metadata": {
        "colab": {
          "base_uri": "https://localhost:8080/"
        },
        "id": "NEP-zIMLwDBI",
        "outputId": "103e77fd-1228-42af-dce0-f781d5b96ad1"
      },
      "execution_count": null,
      "outputs": [
        {
          "output_type": "stream",
          "name": "stdout",
          "text": [
            "Accuracy score on Test Data :  0.9802955665024631\n"
          ]
        }
      ]
    },
    {
      "cell_type": "code",
      "source": [
        "# A high accuracy score on both the training and testing datasets indicates \n",
        "# that the model is performing well and can be useful for credit card fraud detection"
      ],
      "metadata": {
        "id": "4g4uqLHgwEyC"
      },
      "execution_count": null,
      "outputs": []
    },
    {
      "cell_type": "markdown",
      "source": [
        "# **Random Forest**"
      ],
      "metadata": {
        "id": "DrYBD_9XuA8f"
      }
    },
    {
      "cell_type": "code",
      "source": [
        "from sklearn.ensemble import RandomForestClassifier\n",
        "from sklearn.metrics import confusion_matrix\n",
        "from sklearn.metrics import classification_report\n",
        "import matplotlib.pyplot as plt\n",
        "import seaborn as sns\n",
        "\n",
        "def random_forest_classifier(X_train, X_test, Y_train, Y_test):\n",
        "    # initialize object for RandomForestClassifier class\n",
        "    rf_classifier = RandomForestClassifier(n_estimators=50)\n",
        "    # train model using fit method\n",
        "    print(\"Model training starts........\")\n",
        "    rf_classifier.fit(X_train, Y_train.values.ravel())\n",
        "    acc_score = rf_classifier.score(X_test, Y_test)\n",
        "    print(f'Accuracy of model on test dataset: {acc_score}')\n",
        "    # predict result using test dataset\n",
        "    y_pred = rf_classifier.predict(X_test)\n",
        "    # confusion matrix\n",
        "    cm = confusion_matrix(Y_test, y_pred)\n",
        "    print(f\"Confusion Matrix :- \\n {cm}\")\n",
        "    # classification report for f1-score\n",
        "    print(f\"Classification Report :- \\n {classification_report(Y_test, y_pred)}\")\n",
        "    \n",
        "    # Visualize confusion matrix\n",
        "    plt.figure(figsize=(8, 6))\n",
        "    sns.heatmap(cm, annot=True, cmap='Blues', fmt='d')\n",
        "    plt.title(\"Confusion Matrix\")\n",
        "    plt.xlabel(\"Predicted labels\")\n",
        "    plt.ylabel(\"True labels\")\n",
        "    plt.show()\n",
        "\n",
        "\n",
        "# calling random_forest_classifier\n",
        "random_forest_classifier(X_train, X_test, Y_train, Y_test)\n",
        "\n"
      ],
      "metadata": {
        "colab": {
          "base_uri": "https://localhost:8080/",
          "height": 824
        },
        "id": "6sAoK4b7Lljr",
        "outputId": "28036d29-85f1-4acf-9203-ed7cf5e648ac"
      },
      "execution_count": null,
      "outputs": [
        {
          "output_type": "stream",
          "name": "stdout",
          "text": [
            "Model training starts........\n",
            "Accuracy of model on test dataset: 0.9901477832512315\n",
            "Confusion Matrix :- \n",
            " [[146   0]\n",
            " [  2  55]]\n",
            "Classification Report :- \n",
            "               precision    recall  f1-score   support\n",
            "\n",
            "         0.0       0.99      1.00      0.99       146\n",
            "         1.0       1.00      0.96      0.98        57\n",
            "\n",
            "    accuracy                           0.99       203\n",
            "   macro avg       0.99      0.98      0.99       203\n",
            "weighted avg       0.99      0.99      0.99       203\n",
            "\n"
          ]
        },
        {
          "output_type": "display_data",
          "data": {
            "text/plain": [
              "<Figure size 800x600 with 2 Axes>"
            ],
            "image/png": "[encoded data removed]"
          },
          "metadata": {}
        }
      ]
    },
    {
      "cell_type": "markdown",
      "source": [
        "# **Decision Tree Algorithm**"
      ],
      "metadata": {
        "id": "Lo4ukqo2MDNs"
      }
    },
    {
      "cell_type": "code",
      "source": [
        "class_counts = credit_card_data['Class'].value_counts()\n",
        "print(\"Number of samples for each class:\")\n",
        "print(class_counts)\n",
        "non_fraud = class_counts[0]\n",
        "fraud = class_counts[1]\n",
        "print(\"Non-fraudulent Numbers:\", non_fraud)\n",
        "print(\"Fraudulent Numbers:\", fraud)"
      ],
      "metadata": {
        "colab": {
          "base_uri": "https://localhost:8080/"
        },
        "id": "RQhXIUYFO6cx",
        "outputId": "7ba83c20-596c-4072-d382-2ee49fb35ad1"
      },
      "execution_count": null,
      "outputs": [
        {
          "output_type": "stream",
          "name": "stdout",
          "text": [
            "Number of samples for each class:\n",
            "0.0    98839\n",
            "1.0      282\n",
            "Name: Class, dtype: int64\n",
            "Non-fraudulent Numbers: 98839\n",
            "Fraudulent Numbers: 282\n"
          ]
        }
      ]
    },
    {
      "cell_type": "code",
      "source": [
        "import numpy as np\n",
        "## Equalize the number of samples for both target classes\n",
        "# Get indexes of non-fraudulent samples\n",
        "nonfraud_indices = credit_card_data[credit_card_data.Class == 0].index\n",
        "fraud_indices = np.array(credit_card_data[credit_card_data.Class == 1].index)\n",
        "# Randomly select non-fraudulent samples that are equal to the number of fraudulent samples\n",
        "random_normal_indices = np.random.choice(nonfraud_indices, size=len(fraud_indices), replace=False)\n",
        "random_normal_indices = np.array(random_normal_indices)"
      ],
      "metadata": {
        "id": "0AeVDQT6PCbP"
      },
      "execution_count": null,
      "outputs": []
    },
    {
      "cell_type": "code",
      "source": [
        "## Undersampling techniques\n",
        "\n",
        "# Concatenate the indices of fraud and non-fraud transactions\n",
        "under_sample_indices = np.concatenate([fraud_indices, random_normal_indices])\n",
        "\n",
        "# Extract all features for the under-sampled indices\n",
        "under_sample_data = credit_card_data.iloc[under_sample_indices, :]\n",
        "\n",
        "# Split the under-sampled data into features (X) and target (y)\n",
        "X_undersample_data = under_sample_data.drop(['Class'], axis=1)\n",
        "y_undersample_data = under_sample_data['Class']\n",
        "\n",
        "# Split the dataset into train and test datasets\n",
        "X_train_sample, X_test_sample, y_train_sample, y_test_sample = train_test_split(\n",
        "    X_undersample_data, y_undersample_data, test_size=0.2, random_state=0)\n"
      ],
      "metadata": {
        "id": "rp_-H-Y7Pr38"
      },
      "execution_count": null,
      "outputs": []
    },
    {
      "cell_type": "code",
      "source": [
        "from sklearn.tree import DecisionTreeClassifier\n",
        "from sklearn.metrics import confusion_matrix\n",
        "from sklearn.metrics import classification_report\n",
        "from sklearn.metrics import roc_auc_score\n",
        "import matplotlib.pyplot as plt\n",
        "import seaborn as sns\n",
        "\n",
        "def decision_tree_classification(X_train, X_test, Y_train, Y_test):\n",
        "    # Initialize object for DecisionTreeClassifier class\n",
        "    dt_classifier = DecisionTreeClassifier(criterion='gini')\n",
        "    # Train model using fit method\n",
        "    print(\"Model training starts........\")\n",
        "    dt_classifier.fit(X_train, Y_train.values.ravel())\n",
        "    print(\"Model training completed\")\n",
        "    acc_score = dt_classifier.score(X_test, Y_test)\n",
        "    print(f'Accuracy of model on test dataset: {acc_score}')\n",
        "    # Predict result using test dataset\n",
        "    y_pred = dt_classifier.predict(X_test)\n",
        "    # Confusion matrix\n",
        "    cm = confusion_matrix(Y_test, y_pred)\n",
        "    print(f\"Confusion Matrix:\\n{cm}\")\n",
        "    # Classification report for f1-score\n",
        "    print(f\"Classification Report:\\n{classification_report(Y_test, y_pred)}\")\n",
        "    # AROC score\n",
        "    aroc_score = roc_auc_score(Y_test, y_pred)\n",
        "    print(f\"AROC score: {aroc_score}\")\n",
        "\n",
        "    # Visualize Confusion Matrix\n",
        "    plt.figure(figsize=(8, 6))\n",
        "    sns.heatmap(cm, annot=True, cmap='Blues', fmt='d')\n",
        "    plt.title(\"Confusion Matrix\")\n",
        "    plt.xlabel(\"Predicted labels\")\n",
        "    plt.ylabel(\"True labels\")\n",
        "    plt.show()\n",
        "\n",
        "\n",
        "# Calling decision_tree_classification function\n",
        "decision_tree_classification(X_train_sample, X_test_sample, y_train_sample, y_test_sample)\n"
      ],
      "metadata": {
        "colab": {
          "base_uri": "https://localhost:8080/",
          "height": 842
        },
        "id": "L9zPnRBmMIiu",
        "outputId": "a482b24a-2ff2-4784-c4f0-e83e6a52feaf"
      },
      "execution_count": null,
      "outputs": [
        {
          "output_type": "stream",
          "name": "stdout",
          "text": [
            "Model training starts........\n",
            "Accuracy of model on test dataset: 1.0\n",
            "Confusion Matrix:\n",
            "[[62  0]\n",
            " [ 0 51]]\n",
            "Classification Report:\n",
            "              precision    recall  f1-score   support\n",
            "\n",
            "         0.0       1.00      1.00      1.00        62\n",
            "         1.0       1.00      1.00      1.00        51\n",
            "\n",
            "    accuracy                           1.00       113\n",
            "   macro avg       1.00      1.00      1.00       113\n",
            "weighted avg       1.00      1.00      1.00       113\n",
            "\n",
            "AROC score: 1.0\n"
          ]
        },
        {
          "output_type": "display_data",
          "data": {
            "text/plain": [
              "<Figure size 800x600 with 2 Axes>"
            ],
            "image/png": "[encoded data removed]"
          },
          "metadata": {}
        }
      ]
    }
  ]
}